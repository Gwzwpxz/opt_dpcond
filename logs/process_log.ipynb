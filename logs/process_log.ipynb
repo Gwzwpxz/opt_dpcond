{
 "cells": [
  {
   "cell_type": "code",
   "execution_count": 1,
   "id": "ab3c5115-ff25-4323-a647-251024cda764",
   "metadata": {},
   "outputs": [],
   "source": [
    "import pandas as pd"
   ]
  },
  {
   "cell_type": "code",
   "execution_count": 2,
   "id": "026e3f3d-c90f-4689-82e6-5a67ea421d9f",
   "metadata": {},
   "outputs": [],
   "source": [
    "def get_latex(res_type):\n",
    "    table = pd.read_table(\"log_{0}.txt\".format(res_type), sep=\"\\s+\")\n",
    "    with open(\"res_{0}.tex\".format(res_type), \"w\") as f:\n",
    "        f.write(\"\\begin{table}\")\n",
    "        f.write(table.to_latex())\n",
    "        f.write(\"\\end{table}\")"
   ]
  },
  {
   "cell_type": "code",
   "execution_count": 3,
   "id": "bc556df8-dd18-487a-be07-86b03d81c6cc",
   "metadata": {},
   "outputs": [],
   "source": [
    "table = pd.read_table(\"sslog-LR-1.txt\", sep=\"\\s+\")"
   ]
  },
  {
   "cell_type": "code",
   "execution_count": 4,
   "id": "3e53f975-9107-45dc-bf0f-cdb6c4981a0a",
   "metadata": {},
   "outputs": [],
   "source": [
    "table.to_latex(\"log-lr.tex\")"
   ]
  },
  {
   "cell_type": "code",
   "execution_count": null,
   "id": "9daa2339-d114-43d5-85fb-cef66b0ecf7e",
   "metadata": {},
   "outputs": [],
   "source": [
    "table"
   ]
  },
  {
   "cell_type": "code",
   "execution_count": null,
   "id": "e3a067cf-ae99-4cf7-8d8f-1a50aef8c0d6",
   "metadata": {},
   "outputs": [],
   "source": []
  }
 ],
 "metadata": {
  "kernelspec": {
   "display_name": "Python 3",
   "language": "python",
   "name": "python3"
  },
  "language_info": {
   "codemirror_mode": {
    "name": "ipython",
    "version": 3
   },
   "file_extension": ".py",
   "mimetype": "text/x-python",
   "name": "python",
   "nbconvert_exporter": "python",
   "pygments_lexer": "ipython3",
   "version": "3.8.8"
  }
 },
 "nbformat": 4,
 "nbformat_minor": 5
}
